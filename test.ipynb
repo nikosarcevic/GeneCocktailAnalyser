{
 "cells": [
  {
   "cell_type": "code",
   "execution_count": 1,
   "id": "07c100ab",
   "metadata": {},
   "outputs": [],
   "source": [
    "import os\n",
    "import pandas as pd\n",
    "import gene_cocktail_analyser as gca"
   ]
  },
  {
   "cell_type": "code",
   "execution_count": 2,
   "id": "ebf504c2",
   "metadata": {},
   "outputs": [],
   "source": [
    "# Define your paths to files here: your cocktails and filters\n",
    "# Construct dictionaries for both\n",
    "filters_path = \"input_data/filters/\"\n",
    "cocktail_path = \"input_data/cocktails/\"\n",
    "\n",
    "filters = {\"aav-lung-mef\": \"filters-AAV-LUNG-MEF.csv\",\n",
    "           \"no-wt-n-d-pool\": \"filters_NO-WT-N-D-POOL.csv\"}\n",
    "\n",
    "for key in filters:\n",
    "    filters[key] = filters_path + filters[key]\n",
    "    \n",
    "cocktails = {\n",
    "    \"aav\": \"AAVCocktail-01_Unique_Seq.csv\",\n",
    "    \"d2\": \"D2_Unique_Seq.csv\",\n",
    "    \"d7\": \"D7_Unique_Seq.csv\",\n",
    "    \"lung1\": \"LUNG1_Unique_Seq.csv\",\n",
    "    \"lung2\": \"LUNG2_Unique_Seq.csv\",\n",
    "    \"lung3\": \"LUNG3_Unique_Seq.csv\",\n",
    "    \"lung4\": \"LUNG4_Unique_Seq.csv\",\n",
    "    \"lungc\": \"LUNGC_Unique_Seq.csv\",\n",
    "    \"mef2\": \"MEF2_Unique_Seq.csv\",\n",
    "    \"mef3\": \"MEF3_Unique_Seq.csv\",\n",
    "    \"n1_2\": \"N1-2_Unique_Seq.csv\",\n",
    "    \"n1_7\": \"N1-7_Unique_Seq.csv\",\n",
    "    \"n2_2\": \"N2-2_Unique_Seq.csv\",\n",
    "    \"n2_7\": \"N2-7_Unique_Seq.csv\",\n",
    "    \"no2\": \"NO2_Unique_Seq.csv\",\n",
    "    \"n07\": \"NO7_Unique_Seq.csv\",\n",
    "    \"pool\": \"POOL_Unique_Seq.csv\",\n",
    "    \"wt2\": \"WT2_Unique_Seq.csv\",\n",
    "    \"wt7\": \"WT7_Unique_Seq.csv\"\n",
    "}\n",
    "\n",
    "for key in cocktails:\n",
    "    cocktails[key] = cocktail_path + cocktails[key]\n",
    "    \n",
    "# Now make another dictionary that maps the\n",
    "# cocktails to filters\n",
    "    \n",
    "cocktail_to_filter = {\n",
    "    \"aav\": \"aav-lung-mef\",\n",
    "    \"d2\": \"no-wt-n-d-pool\",\n",
    "    \"d7\": \"no-wt-n-d-pool\",\n",
    "    \"lung1\": \"aav-lung-mef\",\n",
    "    \"lung2\": \"aav-lung-mef\",\n",
    "    \"lung3\": \"aav-lung-mef\",\n",
    "    \"lung4\": \"aav-lung-mef\",\n",
    "    \"lungc\": \"aav-lung-mef\",\n",
    "    \"mef2\": \"aav-lung-mef\",\n",
    "    \"mef3\": \"aav-lung-mef\",\n",
    "    \"n1_2\": \"no-wt-n-d-pool\",\n",
    "    \"n1_7\": \"no-wt-n-d-pool\",\n",
    "    \"n2_2\": \"no-wt-n-d-pool\",\n",
    "    \"n2_7\": \"no-wt-n-d-pool\",\n",
    "    \"no2\": \"no-wt-n-d-pool\",\n",
    "    \"n07\": \"no-wt-n-d-pool\",\n",
    "    \"pool\": \"no-wt-n-d-pool\",\n",
    "    \"wt2\": \"no-wt-n-d-pool\",\n",
    "    \"wt7\": \"no-wt-n-d-pool\"\n",
    "}\n",
    "\n"
   ]
  },
  {
   "cell_type": "code",
   "execution_count": null,
   "id": "eafdcd8b",
   "metadata": {},
   "outputs": [],
   "source": [
    "%%time\n",
    "\n",
    "# Here process all data at once\n",
    "# might take a bit of time but everything \n",
    "# wil lbe done in one go\n",
    "for cocktail_key, filter_key in cocktail_to_filter.items():\n",
    "    cocktail_data = gca.GeneCocktailAnalyser(cocktails[cocktail_key], filters[filter_key])\n",
    "    cocktail_data.process_data()\n",
    "    cocktail_data.display_results()\n",
    "    cocktail_data.plot_visualisations()"
   ]
  },
  {
   "cell_type": "code",
   "execution_count": null,
   "id": "59e97145",
   "metadata": {
    "scrolled": false
   },
   "outputs": [],
   "source": [
    "%%time\n",
    "test_dataset = \"tests/test_data/test_sequence_data.csv\"\n",
    "test_filters = \"tests/test_data/test_filters.csv\"\n",
    "\n",
    "test_data = gca.GeneCocktailAnalyser(test_dataset, test_filters)\n",
    "\n",
    "test_data.process_data()\n",
    "test_data.display_results()"
   ]
  },
  {
   "cell_type": "code",
   "execution_count": null,
   "id": "ecd0ced2",
   "metadata": {},
   "outputs": [],
   "source": []
  }
 ],
 "metadata": {
  "hide_input": false,
  "kernelspec": {
   "display_name": "Python 3",
   "language": "python",
   "name": "python3"
  },
  "language_info": {
   "codemirror_mode": {
    "name": "ipython",
    "version": 3
   },
   "file_extension": ".py",
   "mimetype": "text/x-python",
   "name": "python",
   "nbconvert_exporter": "python",
   "pygments_lexer": "ipython3",
   "version": "3.7.6"
  },
  "latex_envs": {
   "LaTeX_envs_menu_present": true,
   "autoclose": false,
   "autocomplete": true,
   "bibliofile": "biblio.bib",
   "cite_by": "apalike",
   "current_citInitial": 1,
   "eqLabelWithNumbers": true,
   "eqNumInitial": 1,
   "hotkeys": {
    "equation": "Ctrl-E",
    "itemize": "Ctrl-I"
   },
   "labels_anchors": false,
   "latex_user_defs": false,
   "report_style_numbering": false,
   "user_envs_cfg": false
  },
  "toc": {
   "base_numbering": 1,
   "nav_menu": {},
   "number_sections": true,
   "sideBar": true,
   "skip_h1_title": false,
   "title_cell": "Table of Contents",
   "title_sidebar": "Contents",
   "toc_cell": false,
   "toc_position": {},
   "toc_section_display": true,
   "toc_window_display": false
  }
 },
 "nbformat": 4,
 "nbformat_minor": 5
}
