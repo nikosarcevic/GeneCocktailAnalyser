{
 "cells": [
  {
   "cell_type": "code",
   "execution_count": 1,
   "id": "07c100ab",
   "metadata": {},
   "outputs": [],
   "source": [
    "import os\n",
    "import pandas as pd\n",
    "import gene_cocktail_analyser as gca"
   ]
  },
  {
   "cell_type": "code",
   "execution_count": 2,
   "id": "ebf504c2",
   "metadata": {},
   "outputs": [
    {
     "name": "stdout",
     "output_type": "stream",
     "text": [
      "CPU times: user 3 µs, sys: 1e+03 ns, total: 4 µs\n",
      "Wall time: 7.15 µs\n"
     ]
    }
   ],
   "source": [
    "%%time\n",
    "filter_path = \"input_data/filters/\"\n",
    "cocktail_path = \"input_data/cocktails/\"\n",
    "filters = filter_path + \"filters-AAV-LUNG-MEF.csv\"\n"
   ]
  },
  {
   "cell_type": "code",
   "execution_count": 3,
   "id": "5b852b49",
   "metadata": {},
   "outputs": [],
   "source": [
    "aav_cocktail = cocktail_path + \"AAVCocktail-01_Unique_Seq.csv\"\n",
    "lung1_cocktail = cocktail_path + \"LUNG1_Unique_Seq.csv\"\n",
    "lung2_cocktail = cocktail_path + \"LUNG2_Unique_Seq.csv\"\n",
    "lung3_cocktail = cocktail_path + \"LUNG3_Unique_Seq.csv\"\n",
    "lung4_cocktail = cocktail_path + \"LUNG4_Unique_Seq.csv\"\n",
    "lungc_cocktail = cocktail_path + \"LUNGC_Unique_Seq.csv\"\n",
    "mef2_cocktail = cocktail_path + \"MEF2_Unique_Seq.csv\"\n",
    "mef3_cocktail = cocktail_path + \"MEF3_Unique_Seq.csv\""
   ]
  },
  {
   "cell_type": "code",
   "execution_count": 4,
   "id": "8703bd12",
   "metadata": {},
   "outputs": [
    {
     "name": "stdout",
     "output_type": "stream",
     "text": [
      "Unified Gene Cocktail Report: AAVCocktail-01_Unique_Seq\n",
      "\n",
      "Section                              | Description                                      | Value       | Fraction\n",
      "----------------------------------------------------------------------------------------------------------------\n",
      "Category                             | Description: ID | Mutation | Mutation Codon      | Value       | Fraction\n",
      "Summary                              | Total Cocktail Samples                           | 4627        | -       \n",
      "Summary                              | Cocktail samples (after removing NaNs)           | 4627        | 100%    \n",
      "Summary                              | Samples with no filter match                     | 1457        | 31.49%  \n",
      "Summary                              | Samples with one filter match                    | 3170        | 68.51%  \n",
      "Summary                              | Samples with two or more filter matches          | 12          | 0.26%   \n",
      "                                     |                                                  |             |         \n",
      "                                     |                                                  |             |         \n",
      "Filter Match                         | Ref1 | KRASG12D | GAT                            | 402         | 8.69%   \n",
      "Filter Match                         | Ref2 | KRASG12WT | GGT                           | 369         | 7.97%   \n",
      "Filter Match                         | Ref3 | KRASQ61L | CTA                            | 440         | 9.51%   \n",
      "Filter Match                         | Ref4 | KRASQ61WT | CAA                           | 471         | 10.18%  \n",
      "Filter Match                         | Ref5 | HRASG12D | GAT                            | 135         | 2.92%   \n",
      "Filter Match                         | Ref6 | HRASG12WT | GGA                           | 99          | 2.14%   \n",
      "Filter Match                         | Ref7 | HRASQ61L | CTA                            | 176         | 3.80%   \n",
      "Filter Match                         | Ref8 | HRASQ61WT | CAA                           | 223         | 4.82%   \n",
      "Filter Match                         | Ref9 | NRASG12D | GAT                            | 46          | 0.99%   \n",
      "Filter Match                         | Ref10 | NRASG12WT | GGT                          | 77          | 1.66%   \n",
      "Filter Match                         | Ref11 | NRASQ61L | CTA                           | 408         | 8.82%   \n",
      "Filter Match                         | Ref12 | NRASQ61WT | CAA                          | 365         | 7.89%   \n",
      "Total Filter Matches                 |                                                  | 3211        |         \n",
      "                                     |                                                  |             |         \n",
      "Multiple Filter Matches per Sequence | Ref6 | HRASG12WT | GGA, Ref7 | HRASQ61L | CTA    | index: 16   | -       \n",
      "Multiple Filter Matches per Sequence | Ref5 | HRASG12D | GAT, Ref8 | HRASQ61WT | CAA    | index: 148  | -       \n",
      "Multiple Filter Matches per Sequence | Ref6 | HRASG12WT | GGA, Ref7 | HRASQ61L | CTA    | index: 224  | -       \n",
      "Multiple Filter Matches per Sequence | Ref6 | HRASG12WT | GGA, Ref7 | HRASQ61L | CTA    | index: 298  | -       \n",
      "Multiple Filter Matches per Sequence | Ref12 | NRASQ61WT | CAA, Ref9 | NRASG12D | GAT   | index: 426  | -       \n",
      "Multiple Filter Matches per Sequence | Ref6 | HRASG12WT | GGA, Ref8 | HRASQ61WT | CAA   | index: 524  | -       \n",
      "Multiple Filter Matches per Sequence | Ref5 | HRASG12D | GAT, Ref8 | HRASQ61WT | CAA    | index: 615  | -       \n",
      "Multiple Filter Matches per Sequence | Ref6 | HRASG12WT | GGA, Ref8 | HRASQ61WT | CAA   | index: 726  | -       \n",
      "Multiple Filter Matches per Sequence | Ref5 | HRASG12D | GAT, Ref7 | HRASQ61L | CTA     | index: 798  | -       \n",
      "Multiple Filter Matches per Sequence | Ref6 | HRASG12WT | GGA, Ref7 | HRASQ61L | CTA    | index: 857  | -       \n",
      "Multiple Filter Matches per Sequence | Ref5 | HRASG12D | GAT, Ref8 | HRASQ61WT | CAA    | index: 983  | -       \n",
      "Multiple Filter Matches per Sequence | Ref12 | NRASQ61WT | CAA, Ref9 | NRASG12D | GAT   | index: 998  | -       \n",
      "Multiple Filter Matches per Sequence | Ref5 | HRASG12D | GAT, Ref8 | HRASQ61WT | CAA    | index: 1170 | -       \n",
      "Multiple Filter Matches per Sequence | Ref12 | NRASQ61WT | CAA, Ref9 | NRASG12D | GAT   | index: 1263 | -       \n",
      "Multiple Filter Matches per Sequence | Ref10 | NRASG12WT | GGT, Ref12 | NRASQ61WT | CAA | index: 1292 | -       \n",
      "Multiple Filter Matches per Sequence | Ref5 | HRASG12D | GAT, Ref8 | HRASQ61WT | CAA    | index: 1899 | -       \n",
      "Multiple Filter Matches per Sequence | Ref6 | HRASG12WT | GGA, Ref8 | HRASQ61WT | CAA   | index: 2005 | -       \n",
      "Multiple Filter Matches per Sequence | Ref6 | HRASG12WT | GGA, Ref7 | HRASQ61L | CTA    | index: 2171 | -       \n",
      "Multiple Filter Matches per Sequence | Ref5 | HRASG12D | GAT, Ref8 | HRASQ61WT | CAA    | index: 2497 | -       \n",
      "Multiple Filter Matches per Sequence | Ref5 | HRASG12D | GAT, Ref8 | HRASQ61WT | CAA    | index: 2515 | -       \n",
      "Multiple Filter Matches per Sequence | Ref5 | HRASG12D | GAT, Ref8 | HRASQ61WT | CAA    | index: 2647 | -       \n",
      "Multiple Filter Matches per Sequence | Ref12 | NRASQ61WT | CAA, Ref9 | NRASG12D | GAT   | index: 2739 | -       \n",
      "Multiple Filter Matches per Sequence | Ref6 | HRASG12WT | GGA, Ref7 | HRASQ61L | CTA    | index: 2884 | -       \n",
      "Multiple Filter Matches per Sequence | Ref5 | HRASG12D | GAT, Ref8 | HRASQ61WT | CAA    | index: 2954 | -       \n",
      "Multiple Filter Matches per Sequence | Ref6 | HRASG12WT | GGA, Ref8 | HRASQ61WT | CAA   | index: 3070 | -       \n",
      "Multiple Filter Matches per Sequence | Ref10 | NRASG12WT | GGT, Ref11 | NRASQ61L | CTA  | index: 3195 | -       \n",
      "Multiple Filter Matches per Sequence | Ref6 | HRASG12WT | GGA, Ref7 | HRASQ61L | CTA    | index: 3199 | -       \n",
      "Multiple Filter Matches per Sequence | Ref6 | HRASG12WT | GGA, Ref8 | HRASQ61WT | CAA   | index: 3216 | -       \n",
      "Multiple Filter Matches per Sequence | Ref5 | HRASG12D | GAT, Ref7 | HRASQ61L | CTA     | index: 3535 | -       \n",
      "Multiple Filter Matches per Sequence | Ref6 | HRASG12WT | GGA, Ref7 | HRASQ61L | CTA    | index: 3612 | -       \n",
      "Multiple Filter Matches per Sequence | Ref1 | KRASG12D | GAT, Ref2 | KRASG12WT | GGT    | index: 3659 | -       \n",
      "Multiple Filter Matches per Sequence | Ref5 | HRASG12D | GAT, Ref8 | HRASQ61WT | CAA    | index: 3667 | -       \n",
      "Multiple Filter Matches per Sequence | Ref5 | HRASG12D | GAT, Ref7 | HRASQ61L | CTA     | index: 3728 | -       \n",
      "Multiple Filter Matches per Sequence | Ref5 | HRASG12D | GAT, Ref7 | HRASQ61L | CTA     | index: 3809 | -       \n",
      "Multiple Filter Matches per Sequence | Ref5 | HRASG12D | GAT, Ref8 | HRASQ61WT | CAA    | index: 4013 | -       \n",
      "Multiple Filter Matches per Sequence | Ref6 | HRASG12WT | GGA, Ref7 | HRASQ61L | CTA    | index: 4065 | -       \n",
      "Multiple Filter Matches per Sequence | Ref5 | HRASG12D | GAT, Ref8 | HRASQ61WT | CAA    | index: 4177 | -       \n",
      "Multiple Filter Matches per Sequence | Ref10 | NRASG12WT | GGT, Ref8 | HRASQ61WT | CAA  | index: 4260 | -       \n",
      "Multiple Filter Matches per Sequence | Ref5 | HRASG12D | GAT, Ref8 | HRASQ61WT | CAA    | index: 4368 | -       \n",
      "Multiple Filter Matches per Sequence | Ref6 | HRASG12WT | GGA, Ref8 | HRASQ61WT | CAA   | index: 4544 | -       \n",
      "Multiple Filter Matches per Sequence | Ref5 | HRASG12D | GAT, Ref7 | HRASQ61L | CTA     | index: 4597 | -       \n",
      "CPU times: user 5.1 s, sys: 56.7 ms, total: 5.15 s\n",
      "Wall time: 5.17 s\n"
     ]
    }
   ],
   "source": [
    "%%time\n",
    "aav_data = gca.GeneCocktailAnalyser(aav_cocktail, filters)\n",
    "\n",
    "aav_data.process_data()\n",
    "aav_data.display_results()"
   ]
  },
  {
   "cell_type": "code",
   "execution_count": null,
   "id": "c88de9cb",
   "metadata": {},
   "outputs": [],
   "source": [
    "1/0"
   ]
  },
  {
   "cell_type": "code",
   "execution_count": null,
   "id": "263397be",
   "metadata": {},
   "outputs": [],
   "source": [
    "%%time\n",
    "lung1_data = gca.GeneCocktailAnalyser(lung1_cocktail, filters)\n",
    "\n",
    "lung1_data.process_data()\n",
    "lung1_data.display_results()"
   ]
  },
  {
   "cell_type": "code",
   "execution_count": null,
   "id": "d812dec7",
   "metadata": {},
   "outputs": [],
   "source": [
    "%%time\n",
    "lung2_data = gca.GeneCocktailAnalyser(lung2_cocktail, filters)\n",
    "\n",
    "lung2_data.process_data()\n",
    "lung2_data.display_results()"
   ]
  },
  {
   "cell_type": "code",
   "execution_count": null,
   "id": "53719d8b",
   "metadata": {},
   "outputs": [],
   "source": [
    "%%time\n",
    "lung3_data = gca.GeneCocktailAnalyser(lung3_cocktail, filters)\n",
    "\n",
    "lung3_data.process_data()\n",
    "lung3_data.display_results()"
   ]
  },
  {
   "cell_type": "code",
   "execution_count": null,
   "id": "b99f5c96",
   "metadata": {
    "scrolled": true
   },
   "outputs": [],
   "source": [
    "%%time\n",
    "lung4_data = gca.GeneCocktailAnalyser(lung4_cocktail, filters)\n",
    "\n",
    "lung4_data.process_data()\n",
    "lung4_data.display_results()"
   ]
  },
  {
   "cell_type": "code",
   "execution_count": null,
   "id": "d95f97a3",
   "metadata": {},
   "outputs": [],
   "source": [
    "%%time\n",
    "mef2_data = gca.GeneCocktailAnalyser(mef2_cocktail, filters)\n",
    "\n",
    "mef2_data.process_data()\n",
    "mef2_data.display_results()"
   ]
  },
  {
   "cell_type": "code",
   "execution_count": null,
   "id": "5074df7c",
   "metadata": {},
   "outputs": [],
   "source": [
    "%%time\n",
    "mef3_data = gca.GeneCocktailAnalyser(mef3_cocktail, filters)\n",
    "\n",
    "mef3_data.process_data()\n",
    "mef3_data.display_results()"
   ]
  },
  {
   "cell_type": "code",
   "execution_count": null,
   "id": "59e97145",
   "metadata": {
    "scrolled": false
   },
   "outputs": [],
   "source": [
    "%%time\n",
    "test_dataset = \"tests/test_data/test_sequence_data.csv\"\n",
    "test_filters = \"tests/test_data/test_filters.csv\"\n",
    "\n",
    "test_data = gca.GeneCocktailAnalyser(test_dataset, test_filters)\n",
    "\n",
    "test_data.process_data()\n",
    "test_data.display_results()"
   ]
  },
  {
   "cell_type": "code",
   "execution_count": null,
   "id": "f0fe8a5a",
   "metadata": {},
   "outputs": [],
   "source": []
  }
 ],
 "metadata": {
  "hide_input": false,
  "kernelspec": {
   "display_name": "Python 3",
   "language": "python",
   "name": "python3"
  },
  "language_info": {
   "codemirror_mode": {
    "name": "ipython",
    "version": 3
   },
   "file_extension": ".py",
   "mimetype": "text/x-python",
   "name": "python",
   "nbconvert_exporter": "python",
   "pygments_lexer": "ipython3",
   "version": "3.7.6"
  },
  "latex_envs": {
   "LaTeX_envs_menu_present": true,
   "autoclose": false,
   "autocomplete": true,
   "bibliofile": "biblio.bib",
   "cite_by": "apalike",
   "current_citInitial": 1,
   "eqLabelWithNumbers": true,
   "eqNumInitial": 1,
   "hotkeys": {
    "equation": "Ctrl-E",
    "itemize": "Ctrl-I"
   },
   "labels_anchors": false,
   "latex_user_defs": false,
   "report_style_numbering": false,
   "user_envs_cfg": false
  },
  "toc": {
   "base_numbering": 1,
   "nav_menu": {},
   "number_sections": true,
   "sideBar": true,
   "skip_h1_title": false,
   "title_cell": "Table of Contents",
   "title_sidebar": "Contents",
   "toc_cell": false,
   "toc_position": {},
   "toc_section_display": true,
   "toc_window_display": false
  }
 },
 "nbformat": 4,
 "nbformat_minor": 5
}
